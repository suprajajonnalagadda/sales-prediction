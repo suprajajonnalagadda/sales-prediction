{
 "cells": [
  {
   "cell_type": "code",
   "execution_count": 1,
   "metadata": {},
   "outputs": [
    {
     "data": {
      "text/html": [
       "<div>\n",
       "<style scoped>\n",
       "    .dataframe tbody tr th:only-of-type {\n",
       "        vertical-align: middle;\n",
       "    }\n",
       "\n",
       "    .dataframe tbody tr th {\n",
       "        vertical-align: top;\n",
       "    }\n",
       "\n",
       "    .dataframe thead th {\n",
       "        text-align: right;\n",
       "    }\n",
       "</style>\n",
       "<table border=\"1\" class=\"dataframe\">\n",
       "  <thead>\n",
       "    <tr style=\"text-align: right;\">\n",
       "      <th></th>\n",
       "      <th>Unnamed: 0</th>\n",
       "      <th>TV</th>\n",
       "      <th>Radio</th>\n",
       "      <th>Newspaper</th>\n",
       "      <th>Sales</th>\n",
       "    </tr>\n",
       "  </thead>\n",
       "  <tbody>\n",
       "    <tr>\n",
       "      <th>0</th>\n",
       "      <td>1</td>\n",
       "      <td>230.1</td>\n",
       "      <td>37.8</td>\n",
       "      <td>69.2</td>\n",
       "      <td>22.1</td>\n",
       "    </tr>\n",
       "    <tr>\n",
       "      <th>1</th>\n",
       "      <td>2</td>\n",
       "      <td>44.5</td>\n",
       "      <td>39.3</td>\n",
       "      <td>45.1</td>\n",
       "      <td>10.4</td>\n",
       "    </tr>\n",
       "    <tr>\n",
       "      <th>2</th>\n",
       "      <td>3</td>\n",
       "      <td>17.2</td>\n",
       "      <td>45.9</td>\n",
       "      <td>69.3</td>\n",
       "      <td>9.3</td>\n",
       "    </tr>\n",
       "    <tr>\n",
       "      <th>3</th>\n",
       "      <td>4</td>\n",
       "      <td>151.5</td>\n",
       "      <td>41.3</td>\n",
       "      <td>58.5</td>\n",
       "      <td>18.5</td>\n",
       "    </tr>\n",
       "    <tr>\n",
       "      <th>4</th>\n",
       "      <td>5</td>\n",
       "      <td>180.8</td>\n",
       "      <td>10.8</td>\n",
       "      <td>58.4</td>\n",
       "      <td>12.9</td>\n",
       "    </tr>\n",
       "  </tbody>\n",
       "</table>\n",
       "</div>"
      ],
      "text/plain": [
       "   Unnamed: 0     TV  Radio  Newspaper  Sales\n",
       "0           1  230.1   37.8       69.2   22.1\n",
       "1           2   44.5   39.3       45.1   10.4\n",
       "2           3   17.2   45.9       69.3    9.3\n",
       "3           4  151.5   41.3       58.5   18.5\n",
       "4           5  180.8   10.8       58.4   12.9"
      ]
     },
     "execution_count": 1,
     "metadata": {},
     "output_type": "execute_result"
    }
   ],
   "source": [
    "import pandas as pd\n",
    "import numpy as np\n",
    "import matplotlib.pyplot as plt\n",
    "import seaborn as sns\n",
    "from sklearn.model_selection import train_test_split\n",
    "from sklearn.metrics import mean_squared_error,mean_absolute_error,r2_score\n",
    "from sklearn.linear_model import LinearRegression,Ridge,Lasso\n",
    "from sklearn.model_selection import GridSearchCV,cross_val_score,KFold\n",
    "df = pd.read_csv('Advertising.csv')\n",
    "df.head()"
   ]
  },
  {
   "cell_type": "code",
   "execution_count": 2,
   "metadata": {},
   "outputs": [
    {
     "name": "stdout",
     "output_type": "stream",
     "text": [
      "Rows ----> 200\n",
      "column ---> 5\n"
     ]
    }
   ],
   "source": [
    "print('Rows ---->',df.shape[0])\n",
    "print('column --->',df.shape[1])"
   ]
  },
  {
   "cell_type": "code",
   "execution_count": 3,
   "metadata": {},
   "outputs": [
    {
     "name": "stdout",
     "output_type": "stream",
     "text": [
      "<class 'pandas.core.frame.DataFrame'>\n",
      "RangeIndex: 200 entries, 0 to 199\n",
      "Data columns (total 5 columns):\n",
      " #   Column      Non-Null Count  Dtype  \n",
      "---  ------      --------------  -----  \n",
      " 0   Unnamed: 0  200 non-null    int64  \n",
      " 1   TV          200 non-null    float64\n",
      " 2   Radio       200 non-null    float64\n",
      " 3   Newspaper   200 non-null    float64\n",
      " 4   Sales       200 non-null    float64\n",
      "dtypes: float64(4), int64(1)\n",
      "memory usage: 7.9 KB\n"
     ]
    }
   ],
   "source": [
    "df.info()"
   ]
  },
  {
   "cell_type": "code",
   "execution_count": 4,
   "metadata": {},
   "outputs": [
    {
     "data": {
      "text/plain": [
       "Unnamed: 0      int64\n",
       "TV            float64\n",
       "Radio         float64\n",
       "Newspaper     float64\n",
       "Sales         float64\n",
       "dtype: object"
      ]
     },
     "execution_count": 4,
     "metadata": {},
     "output_type": "execute_result"
    }
   ],
   "source": [
    "df.dtypes"
   ]
  },
  {
   "cell_type": "code",
   "execution_count": 5,
   "metadata": {},
   "outputs": [
    {
     "data": {
      "text/plain": [
       "1000"
      ]
     },
     "execution_count": 5,
     "metadata": {},
     "output_type": "execute_result"
    }
   ],
   "source": [
    "df.size"
   ]
  },
  {
   "cell_type": "code",
   "execution_count": 6,
   "metadata": {},
   "outputs": [
    {
     "data": {
      "text/html": [
       "<div>\n",
       "<style scoped>\n",
       "    .dataframe tbody tr th:only-of-type {\n",
       "        vertical-align: middle;\n",
       "    }\n",
       "\n",
       "    .dataframe tbody tr th {\n",
       "        vertical-align: top;\n",
       "    }\n",
       "\n",
       "    .dataframe thead th {\n",
       "        text-align: right;\n",
       "    }\n",
       "</style>\n",
       "<table border=\"1\" class=\"dataframe\">\n",
       "  <thead>\n",
       "    <tr style=\"text-align: right;\">\n",
       "      <th></th>\n",
       "      <th>Unnamed: 0</th>\n",
       "      <th>TV</th>\n",
       "      <th>Radio</th>\n",
       "      <th>Newspaper</th>\n",
       "      <th>Sales</th>\n",
       "    </tr>\n",
       "  </thead>\n",
       "  <tbody>\n",
       "    <tr>\n",
       "      <th>count</th>\n",
       "      <td>200.000000</td>\n",
       "      <td>200.000000</td>\n",
       "      <td>200.000000</td>\n",
       "      <td>200.000000</td>\n",
       "      <td>200.000000</td>\n",
       "    </tr>\n",
       "    <tr>\n",
       "      <th>mean</th>\n",
       "      <td>100.500000</td>\n",
       "      <td>147.042500</td>\n",
       "      <td>23.264000</td>\n",
       "      <td>30.554000</td>\n",
       "      <td>14.022500</td>\n",
       "    </tr>\n",
       "    <tr>\n",
       "      <th>std</th>\n",
       "      <td>57.879185</td>\n",
       "      <td>85.854236</td>\n",
       "      <td>14.846809</td>\n",
       "      <td>21.778621</td>\n",
       "      <td>5.217457</td>\n",
       "    </tr>\n",
       "    <tr>\n",
       "      <th>min</th>\n",
       "      <td>1.000000</td>\n",
       "      <td>0.700000</td>\n",
       "      <td>0.000000</td>\n",
       "      <td>0.300000</td>\n",
       "      <td>1.600000</td>\n",
       "    </tr>\n",
       "    <tr>\n",
       "      <th>25%</th>\n",
       "      <td>50.750000</td>\n",
       "      <td>74.375000</td>\n",
       "      <td>9.975000</td>\n",
       "      <td>12.750000</td>\n",
       "      <td>10.375000</td>\n",
       "    </tr>\n",
       "    <tr>\n",
       "      <th>50%</th>\n",
       "      <td>100.500000</td>\n",
       "      <td>149.750000</td>\n",
       "      <td>22.900000</td>\n",
       "      <td>25.750000</td>\n",
       "      <td>12.900000</td>\n",
       "    </tr>\n",
       "    <tr>\n",
       "      <th>75%</th>\n",
       "      <td>150.250000</td>\n",
       "      <td>218.825000</td>\n",
       "      <td>36.525000</td>\n",
       "      <td>45.100000</td>\n",
       "      <td>17.400000</td>\n",
       "    </tr>\n",
       "    <tr>\n",
       "      <th>max</th>\n",
       "      <td>200.000000</td>\n",
       "      <td>296.400000</td>\n",
       "      <td>49.600000</td>\n",
       "      <td>114.000000</td>\n",
       "      <td>27.000000</td>\n",
       "    </tr>\n",
       "  </tbody>\n",
       "</table>\n",
       "</div>"
      ],
      "text/plain": [
       "       Unnamed: 0          TV       Radio   Newspaper       Sales\n",
       "count  200.000000  200.000000  200.000000  200.000000  200.000000\n",
       "mean   100.500000  147.042500   23.264000   30.554000   14.022500\n",
       "std     57.879185   85.854236   14.846809   21.778621    5.217457\n",
       "min      1.000000    0.700000    0.000000    0.300000    1.600000\n",
       "25%     50.750000   74.375000    9.975000   12.750000   10.375000\n",
       "50%    100.500000  149.750000   22.900000   25.750000   12.900000\n",
       "75%    150.250000  218.825000   36.525000   45.100000   17.400000\n",
       "max    200.000000  296.400000   49.600000  114.000000   27.000000"
      ]
     },
     "execution_count": 6,
     "metadata": {},
     "output_type": "execute_result"
    }
   ],
   "source": [
    "df.describe()"
   ]
  },
  {
   "cell_type": "code",
   "execution_count": 7,
   "metadata": {},
   "outputs": [
    {
     "data": {
      "text/plain": [
       "Unnamed: 0    0\n",
       "TV            0\n",
       "Radio         0\n",
       "Newspaper     0\n",
       "Sales         0\n",
       "dtype: int64"
      ]
     },
     "execution_count": 7,
     "metadata": {},
     "output_type": "execute_result"
    }
   ],
   "source": [
    "df.isna().sum()"
   ]
  },
  {
   "cell_type": "code",
   "execution_count": 8,
   "metadata": {},
   "outputs": [
    {
     "data": {
      "text/plain": [
       "0"
      ]
     },
     "execution_count": 8,
     "metadata": {},
     "output_type": "execute_result"
    }
   ],
   "source": [
    "df.duplicated().sum()"
   ]
  },
  {
   "cell_type": "code",
   "execution_count": 9,
   "metadata": {},
   "outputs": [
    {
     "data": {
      "text/html": [
       "<div>\n",
       "<style scoped>\n",
       "    .dataframe tbody tr th:only-of-type {\n",
       "        vertical-align: middle;\n",
       "    }\n",
       "\n",
       "    .dataframe tbody tr th {\n",
       "        vertical-align: top;\n",
       "    }\n",
       "\n",
       "    .dataframe thead th {\n",
       "        text-align: right;\n",
       "    }\n",
       "</style>\n",
       "<table border=\"1\" class=\"dataframe\">\n",
       "  <thead>\n",
       "    <tr style=\"text-align: right;\">\n",
       "      <th></th>\n",
       "      <th>Unnamed: 0</th>\n",
       "      <th>TV</th>\n",
       "      <th>Radio</th>\n",
       "      <th>Newspaper</th>\n",
       "      <th>Sales</th>\n",
       "    </tr>\n",
       "  </thead>\n",
       "  <tbody>\n",
       "    <tr>\n",
       "      <th>0</th>\n",
       "      <td>1</td>\n",
       "      <td>230.1</td>\n",
       "      <td>37.8</td>\n",
       "      <td>69.2</td>\n",
       "      <td>22.1</td>\n",
       "    </tr>\n",
       "    <tr>\n",
       "      <th>1</th>\n",
       "      <td>2</td>\n",
       "      <td>44.5</td>\n",
       "      <td>39.3</td>\n",
       "      <td>45.1</td>\n",
       "      <td>10.4</td>\n",
       "    </tr>\n",
       "  </tbody>\n",
       "</table>\n",
       "</div>"
      ],
      "text/plain": [
       "   Unnamed: 0     TV  Radio  Newspaper  Sales\n",
       "0           1  230.1   37.8       69.2   22.1\n",
       "1           2   44.5   39.3       45.1   10.4"
      ]
     },
     "execution_count": 9,
     "metadata": {},
     "output_type": "execute_result"
    }
   ],
   "source": [
    "df[:2]"
   ]
  },
  {
   "cell_type": "code",
   "execution_count": 10,
   "metadata": {},
   "outputs": [
    {
     "data": {
      "text/html": [
       "<div>\n",
       "<style scoped>\n",
       "    .dataframe tbody tr th:only-of-type {\n",
       "        vertical-align: middle;\n",
       "    }\n",
       "\n",
       "    .dataframe tbody tr th {\n",
       "        vertical-align: top;\n",
       "    }\n",
       "\n",
       "    .dataframe thead th {\n",
       "        text-align: right;\n",
       "    }\n",
       "</style>\n",
       "<table border=\"1\" class=\"dataframe\">\n",
       "  <thead>\n",
       "    <tr style=\"text-align: right;\">\n",
       "      <th></th>\n",
       "      <th>Unnamed: 0</th>\n",
       "      <th>TV</th>\n",
       "      <th>Radio</th>\n",
       "      <th>Newspaper</th>\n",
       "      <th>Sales</th>\n",
       "    </tr>\n",
       "  </thead>\n",
       "  <tbody>\n",
       "    <tr>\n",
       "      <th>0</th>\n",
       "      <td>1</td>\n",
       "      <td>230.1</td>\n",
       "      <td>37.8</td>\n",
       "      <td>69.2</td>\n",
       "      <td>22.1</td>\n",
       "    </tr>\n",
       "    <tr>\n",
       "      <th>1</th>\n",
       "      <td>2</td>\n",
       "      <td>44.5</td>\n",
       "      <td>39.3</td>\n",
       "      <td>45.1</td>\n",
       "      <td>10.4</td>\n",
       "    </tr>\n",
       "    <tr>\n",
       "      <th>2</th>\n",
       "      <td>3</td>\n",
       "      <td>17.2</td>\n",
       "      <td>45.9</td>\n",
       "      <td>69.3</td>\n",
       "      <td>9.3</td>\n",
       "    </tr>\n",
       "    <tr>\n",
       "      <th>3</th>\n",
       "      <td>4</td>\n",
       "      <td>151.5</td>\n",
       "      <td>41.3</td>\n",
       "      <td>58.5</td>\n",
       "      <td>18.5</td>\n",
       "    </tr>\n",
       "    <tr>\n",
       "      <th>4</th>\n",
       "      <td>5</td>\n",
       "      <td>180.8</td>\n",
       "      <td>10.8</td>\n",
       "      <td>58.4</td>\n",
       "      <td>12.9</td>\n",
       "    </tr>\n",
       "  </tbody>\n",
       "</table>\n",
       "</div>"
      ],
      "text/plain": [
       "   Unnamed: 0     TV  Radio  Newspaper  Sales\n",
       "0           1  230.1   37.8       69.2   22.1\n",
       "1           2   44.5   39.3       45.1   10.4\n",
       "2           3   17.2   45.9       69.3    9.3\n",
       "3           4  151.5   41.3       58.5   18.5\n",
       "4           5  180.8   10.8       58.4   12.9"
      ]
     },
     "execution_count": 10,
     "metadata": {},
     "output_type": "execute_result"
    }
   ],
   "source": [
    "df.head()"
   ]
  },
  {
   "cell_type": "code",
   "execution_count": 11,
   "metadata": {},
   "outputs": [
    {
     "data": {
      "image/png": "[encoded data removed]",
      "text/plain": [
       "<Figure size 432x288 with 1 Axes>"
      ]
     },
     "metadata": {
      "needs_background": "light"
     },
     "output_type": "display_data"
    }
   ],
   "source": [
    "plt.boxplot(df,vert=False,data = df,labels=df.columns)\n",
    "plt.show()"
   ]
  },
  {
   "cell_type": "code",
   "execution_count": 12,
   "metadata": {},
   "outputs": [
    {
     "data": {
      "text/html": [
       "<div>\n",
       "<style scoped>\n",
       "    .dataframe tbody tr th:only-of-type {\n",
       "        vertical-align: middle;\n",
       "    }\n",
       "\n",
       "    .dataframe tbody tr th {\n",
       "        vertical-align: top;\n",
       "    }\n",
       "\n",
       "    .dataframe thead th {\n",
       "        text-align: right;\n",
       "    }\n",
       "</style>\n",
       "<table border=\"1\" class=\"dataframe\">\n",
       "  <thead>\n",
       "    <tr style=\"text-align: right;\">\n",
       "      <th></th>\n",
       "      <th>Unnamed: 0</th>\n",
       "      <th>TV</th>\n",
       "      <th>Radio</th>\n",
       "      <th>Newspaper</th>\n",
       "      <th>Sales</th>\n",
       "    </tr>\n",
       "  </thead>\n",
       "  <tbody>\n",
       "    <tr>\n",
       "      <th>0</th>\n",
       "      <td>1</td>\n",
       "      <td>230.1</td>\n",
       "      <td>37.8</td>\n",
       "      <td>69.2</td>\n",
       "      <td>22.1</td>\n",
       "    </tr>\n",
       "    <tr>\n",
       "      <th>1</th>\n",
       "      <td>2</td>\n",
       "      <td>44.5</td>\n",
       "      <td>39.3</td>\n",
       "      <td>45.1</td>\n",
       "      <td>10.4</td>\n",
       "    </tr>\n",
       "    <tr>\n",
       "      <th>2</th>\n",
       "      <td>3</td>\n",
       "      <td>17.2</td>\n",
       "      <td>45.9</td>\n",
       "      <td>69.3</td>\n",
       "      <td>9.3</td>\n",
       "    </tr>\n",
       "    <tr>\n",
       "      <th>3</th>\n",
       "      <td>4</td>\n",
       "      <td>151.5</td>\n",
       "      <td>41.3</td>\n",
       "      <td>58.5</td>\n",
       "      <td>18.5</td>\n",
       "    </tr>\n",
       "    <tr>\n",
       "      <th>4</th>\n",
       "      <td>5</td>\n",
       "      <td>180.8</td>\n",
       "      <td>10.8</td>\n",
       "      <td>58.4</td>\n",
       "      <td>12.9</td>\n",
       "    </tr>\n",
       "  </tbody>\n",
       "</table>\n",
       "</div>"
      ],
      "text/plain": [
       "   Unnamed: 0     TV  Radio  Newspaper  Sales\n",
       "0           1  230.1   37.8       69.2   22.1\n",
       "1           2   44.5   39.3       45.1   10.4\n",
       "2           3   17.2   45.9       69.3    9.3\n",
       "3           4  151.5   41.3       58.5   18.5\n",
       "4           5  180.8   10.8       58.4   12.9"
      ]
     },
     "execution_count": 12,
     "metadata": {},
     "output_type": "execute_result"
    }
   ],
   "source": [
    "df[:5]"
   ]
  },
  {
   "cell_type": "code",
   "execution_count": 13,
   "metadata": {},
   "outputs": [
    {
     "data": {
      "text/plain": [
       "'s'"
      ]
     },
     "execution_count": 13,
     "metadata": {},
     "output_type": "execute_result"
    },
    {
     "data": {
      "image/png": "[encoded data removed]",
      "text/plain": [
       "<Figure size 432x288 with 1 Axes>"
      ]
     },
     "metadata": {
      "needs_background": "light"
     },
     "output_type": "display_data"
    }
   ],
   "source": [
    "def sc():\n",
    "    l=df.columns\n",
    "    for i in range(len(l)-1):\n",
    "        for j in l:\n",
    "            s = plt.scatter(j,'Sales',data=df)\n",
    "    return 's'\n",
    "sc()"
   ]
  },
  {
   "cell_type": "code",
   "execution_count": 14,
   "metadata": {},
   "outputs": [
    {
     "name": "stderr",
     "output_type": "stream",
     "text": [
      "c:\\Users\\jonna\\AppData\\Local\\Programs\\Python\\Python39\\lib\\site-packages\\seaborn\\distributions.py:2619: FutureWarning: `distplot` is a deprecated function and will be removed in a future version. Please adapt your code to use either `displot` (a figure-level function with similar flexibility) or `histplot` (an axes-level function for histograms).\n",
      "  warnings.warn(msg, FutureWarning)\n"
     ]
    },
    {
     "data": {
      "text/plain": [
       "<AxesSubplot:xlabel='Newspaper', ylabel='Density'>"
      ]
     },
     "execution_count": 14,
     "metadata": {},
     "output_type": "execute_result"
    },
    {
     "data": {
      "image/png": "[encoded data removed]",
      "text/plain": [
       "<Figure size 432x288 with 1 Axes>"
      ]
     },
     "metadata": {
      "needs_background": "light"
     },
     "output_type": "display_data"
    }
   ],
   "source": [
    "sns.distplot(df['Newspaper'])"
   ]
  },
  {
   "cell_type": "code",
   "execution_count": 15,
   "metadata": {},
   "outputs": [
    {
     "name": "stderr",
     "output_type": "stream",
     "text": [
      "c:\\Users\\jonna\\AppData\\Local\\Programs\\Python\\Python39\\lib\\site-packages\\seaborn\\distributions.py:2619: FutureWarning: `distplot` is a deprecated function and will be removed in a future version. Please adapt your code to use either `displot` (a figure-level function with similar flexibility) or `histplot` (an axes-level function for histograms).\n",
      "  warnings.warn(msg, FutureWarning)\n"
     ]
    },
    {
     "data": {
      "text/plain": [
       "<AxesSubplot:xlabel='Radio', ylabel='Density'>"
      ]
     },
     "execution_count": 15,
     "metadata": {},
     "output_type": "execute_result"
    },
    {
     "data": {
      "image/png": "[encoded data removed]",
      "text/plain": [
       "<Figure size 432x288 with 1 Axes>"
      ]
     },
     "metadata": {
      "needs_background": "light"
     },
     "output_type": "display_data"
    }
   ],
   "source": [
    "sns.distplot(df['Radio'])"
   ]
  },
  {
   "cell_type": "code",
   "execution_count": 16,
   "metadata": {},
   "outputs": [
    {
     "data": {
      "text/html": [
       "<div>\n",
       "<style scoped>\n",
       "    .dataframe tbody tr th:only-of-type {\n",
       "        vertical-align: middle;\n",
       "    }\n",
       "\n",
       "    .dataframe tbody tr th {\n",
       "        vertical-align: top;\n",
       "    }\n",
       "\n",
       "    .dataframe thead th {\n",
       "        text-align: right;\n",
       "    }\n",
       "</style>\n",
       "<table border=\"1\" class=\"dataframe\">\n",
       "  <thead>\n",
       "    <tr style=\"text-align: right;\">\n",
       "      <th></th>\n",
       "      <th>TV</th>\n",
       "      <th>Radio</th>\n",
       "      <th>Newspaper</th>\n",
       "    </tr>\n",
       "  </thead>\n",
       "  <tbody>\n",
       "    <tr>\n",
       "      <th>0</th>\n",
       "      <td>230.1</td>\n",
       "      <td>37.8</td>\n",
       "      <td>69.2</td>\n",
       "    </tr>\n",
       "    <tr>\n",
       "      <th>1</th>\n",
       "      <td>44.5</td>\n",
       "      <td>39.3</td>\n",
       "      <td>45.1</td>\n",
       "    </tr>\n",
       "    <tr>\n",
       "      <th>2</th>\n",
       "      <td>17.2</td>\n",
       "      <td>45.9</td>\n",
       "      <td>69.3</td>\n",
       "    </tr>\n",
       "    <tr>\n",
       "      <th>3</th>\n",
       "      <td>151.5</td>\n",
       "      <td>41.3</td>\n",
       "      <td>58.5</td>\n",
       "    </tr>\n",
       "    <tr>\n",
       "      <th>4</th>\n",
       "      <td>180.8</td>\n",
       "      <td>10.8</td>\n",
       "      <td>58.4</td>\n",
       "    </tr>\n",
       "    <tr>\n",
       "      <th>...</th>\n",
       "      <td>...</td>\n",
       "      <td>...</td>\n",
       "      <td>...</td>\n",
       "    </tr>\n",
       "    <tr>\n",
       "      <th>195</th>\n",
       "      <td>38.2</td>\n",
       "      <td>3.7</td>\n",
       "      <td>13.8</td>\n",
       "    </tr>\n",
       "    <tr>\n",
       "      <th>196</th>\n",
       "      <td>94.2</td>\n",
       "      <td>4.9</td>\n",
       "      <td>8.1</td>\n",
       "    </tr>\n",
       "    <tr>\n",
       "      <th>197</th>\n",
       "      <td>177.0</td>\n",
       "      <td>9.3</td>\n",
       "      <td>6.4</td>\n",
       "    </tr>\n",
       "    <tr>\n",
       "      <th>198</th>\n",
       "      <td>283.6</td>\n",
       "      <td>42.0</td>\n",
       "      <td>66.2</td>\n",
       "    </tr>\n",
       "    <tr>\n",
       "      <th>199</th>\n",
       "      <td>232.1</td>\n",
       "      <td>8.6</td>\n",
       "      <td>8.7</td>\n",
       "    </tr>\n",
       "  </tbody>\n",
       "</table>\n",
       "<p>200 rows × 3 columns</p>\n",
       "</div>"
      ],
      "text/plain": [
       "        TV  Radio  Newspaper\n",
       "0    230.1   37.8       69.2\n",
       "1     44.5   39.3       45.1\n",
       "2     17.2   45.9       69.3\n",
       "3    151.5   41.3       58.5\n",
       "4    180.8   10.8       58.4\n",
       "..     ...    ...        ...\n",
       "195   38.2    3.7       13.8\n",
       "196   94.2    4.9        8.1\n",
       "197  177.0    9.3        6.4\n",
       "198  283.6   42.0       66.2\n",
       "199  232.1    8.6        8.7\n",
       "\n",
       "[200 rows x 3 columns]"
      ]
     },
     "execution_count": 16,
     "metadata": {},
     "output_type": "execute_result"
    }
   ],
   "source": [
    "df.drop(columns='Unnamed: 0',axis=1,inplace=True)\n",
    "x=df.iloc[:,:-1]\n",
    "x"
   ]
  },
  {
   "cell_type": "code",
   "execution_count": 17,
   "metadata": {},
   "outputs": [
    {
     "data": {
      "text/plain": [
       "(        TV  Radio  Newspaper\n",
       " 71   109.8   14.3       31.7\n",
       " 90   134.3    4.9        9.3\n",
       " 100  222.4    4.3       49.8\n",
       " 44    25.1   25.7       43.3\n",
       " 94   107.4   14.0       10.9\n",
       " ..     ...    ...        ...\n",
       " 58   210.8   49.6       37.7\n",
       " 21   237.4    5.1       23.5\n",
       " 49    66.9   11.7       36.8\n",
       " 64   131.1   42.8       28.9\n",
       " 68   237.4   27.5       11.0\n",
       " \n",
       " [140 rows x 3 columns],\n",
       "      Sales\n",
       " 71    12.4\n",
       " 90    11.2\n",
       " 100   11.7\n",
       " 44     8.5\n",
       " 94    11.5\n",
       " ..     ...\n",
       " 58    23.8\n",
       " 21    12.5\n",
       " 49     9.7\n",
       " 64    18.0\n",
       " 68    18.9\n",
       " \n",
       " [140 rows x 1 columns])"
      ]
     },
     "execution_count": 17,
     "metadata": {},
     "output_type": "execute_result"
    }
   ],
   "source": [
    "y = df.iloc[:,-1:]\n",
    "from sklearn.model_selection import train_test_split\n",
    "xtrain,xtest,ytrain,ytest  = train_test_split(x,y,test_size=0.3,random_state=43)\n",
    "xtrain,ytrain"
   ]
  },
  {
   "cell_type": "code",
   "execution_count": 18,
   "metadata": {},
   "outputs": [
    {
     "data": {
      "text/plain": [
       "(        TV  Radio  Newspaper\n",
       " 56     7.3   28.1       41.4\n",
       " 37    74.7   49.4       45.7\n",
       " 67   139.3   14.5       10.2\n",
       " 79   116.0    7.7       23.1\n",
       " 80    76.4   26.7       22.3\n",
       " 188  286.0   13.9        3.7\n",
       " 183  287.6   43.0       71.8\n",
       " 10    66.1    5.8       24.2\n",
       " 128  220.3   49.0        3.2\n",
       " 62   239.3   15.5       27.3\n",
       " 65    69.0    9.3        0.9\n",
       " 17   281.4   39.6       55.8\n",
       " 133  219.8   33.5       45.1\n",
       " 195   38.2    3.7       13.8\n",
       " 146  240.1    7.3        8.7\n",
       " 38    43.1   26.7       35.1\n",
       " 173  168.4    7.1       12.8\n",
       " 149   44.7   25.8       20.6\n",
       " 93   250.9   36.5       72.3\n",
       " 29    70.6   16.0       40.8\n",
       " 0    230.1   37.8       69.2\n",
       " 2     17.2   45.9       69.3\n",
       " 122  224.0    2.4       15.6\n",
       " 180  156.6    2.6        8.3\n",
       " 95   163.3   31.6       52.9\n",
       " 121   18.8   21.7       50.4\n",
       " 185  205.0   45.1       19.6\n",
       " 39   228.0   37.7       32.0\n",
       " 66    31.5   24.6        2.2\n",
       " 19   147.3   23.9       19.1\n",
       " 11   214.7   24.0        4.0\n",
       " 45   175.1   22.5       31.5\n",
       " 41   177.0   33.4       38.7\n",
       " 92   217.7   33.5       59.0\n",
       " 168  215.4   23.6       57.6\n",
       " 1     44.5   39.3       45.1\n",
       " 57   136.2   19.2       16.6\n",
       " 189   18.7   12.1       23.4\n",
       " 151  121.0    8.4       48.7\n",
       " 167  206.8    5.2       19.4\n",
       " 116  139.2   14.3       25.6\n",
       " 138   43.0   25.9       20.5\n",
       " 155    4.1   11.6        5.7\n",
       " 82    75.3   20.3       32.5\n",
       " 160  172.5   18.1       30.7\n",
       " 181  218.5    5.4       27.4\n",
       " 171  164.5   20.9       47.4\n",
       " 12    23.8   35.1       65.9\n",
       " 55   198.9   49.4       60.0\n",
       " 77   120.5   28.5       14.2\n",
       " 22    13.2   15.9       49.6\n",
       " 129   59.6   12.0       43.1\n",
       " 105  137.9   46.4       59.0\n",
       " 102  280.2   10.1       21.4\n",
       " 159  131.7   18.4       34.6\n",
       " 9    199.8    2.6       21.2\n",
       " 15   195.4   47.7       52.9\n",
       " 150  280.7   13.9       37.0\n",
       " 76    27.5    1.6       20.7\n",
       " 119   19.4   16.0       22.3,\n",
       "      Sales\n",
       " 56     5.5\n",
       " 37    14.7\n",
       " 67    13.4\n",
       " 79    11.0\n",
       " 80    11.8\n",
       " 188   15.9\n",
       " 183   26.2\n",
       " 10     8.6\n",
       " 128   24.7\n",
       " 62    15.7\n",
       " 65     9.3\n",
       " 17    24.4\n",
       " 133   19.6\n",
       " 195    7.6\n",
       " 146   13.2\n",
       " 38    10.1\n",
       " 173   11.7\n",
       " 149   10.1\n",
       " 93    22.2\n",
       " 29    10.5\n",
       " 0     22.1\n",
       " 2      9.3\n",
       " 122   11.6\n",
       " 180   10.5\n",
       " 95    16.9\n",
       " 121    7.0\n",
       " 185   22.6\n",
       " 39    21.5\n",
       " 66     9.5\n",
       " 19    14.6\n",
       " 11    17.4\n",
       " 45    14.9\n",
       " 41    17.1\n",
       " 92    19.4\n",
       " 168   17.1\n",
       " 1     10.4\n",
       " 57    13.2\n",
       " 189    6.7\n",
       " 151   11.6\n",
       " 167   12.2\n",
       " 116   12.2\n",
       " 138    9.6\n",
       " 155    3.2\n",
       " 82    11.3\n",
       " 160   14.4\n",
       " 181   12.2\n",
       " 171   14.5\n",
       " 12     9.2\n",
       " 55    23.7\n",
       " 77    14.2\n",
       " 22     5.6\n",
       " 129    9.7\n",
       " 105   19.2\n",
       " 102   14.8\n",
       " 159   12.9\n",
       " 9     10.6\n",
       " 15    22.4\n",
       " 150   16.1\n",
       " 76     6.9\n",
       " 119    6.6)"
      ]
     },
     "execution_count": 18,
     "metadata": {},
     "output_type": "execute_result"
    }
   ],
   "source": [
    "xtest,ytest"
   ]
  },
  {
   "cell_type": "code",
   "execution_count": 19,
   "metadata": {},
   "outputs": [
    {
     "data": {
      "text/plain": [
       "LinearRegression()"
      ]
     },
     "execution_count": 19,
     "metadata": {},
     "output_type": "execute_result"
    }
   ],
   "source": [
    "from sklearn.linear_model import LinearRegression,Ridge,Lasso\n",
    "model = LinearRegression()\n",
    "model.fit(xtrain,ytrain)"
   ]
  },
  {
   "cell_type": "code",
   "execution_count": 20,
   "metadata": {},
   "outputs": [
    {
     "data": {
      "text/plain": [
       "array([[ 8.41710143],\n",
       "       [15.36146115],\n",
       "       [12.08619274],\n",
       "       [ 9.75953058],\n",
       "       [11.37799221],\n",
       "       [18.73526253],\n",
       "       [23.94158412],\n",
       "       [ 7.11931733],\n",
       "       [22.06606191],\n",
       "       [16.83172907],\n",
       "       [ 7.93115903],\n",
       "       [23.07243791],\n",
       "       [19.15729792],\n",
       "       [ 5.47677475],\n",
       "       [15.42102256],\n",
       "       [ 9.82205717],\n",
       "       [12.08023645],\n",
       "       [ 9.76094922],\n",
       "       [21.07717663],\n",
       "       [ 9.13945016],\n",
       "       [20.36205828],\n",
       "       [12.03862691],\n",
       "       [13.78082146],\n",
       "       [10.73225482],\n",
       "       [16.20061541],\n",
       "       [ 7.77042699],\n",
       "       [20.6251206 ],\n",
       "       [20.31966315],\n",
       "       [ 8.97266008],\n",
       "       [14.13746173],\n",
       "       [17.28381353],\n",
       "       [15.13827164],\n",
       "       [17.18376843],\n",
       "       [19.03374633],\n",
       "       [17.13952183],\n",
       "       [12.14670527],\n",
       "       [12.7815946 ],\n",
       "       [ 6.08135492],\n",
       "       [10.06634988],\n",
       "       [13.48921606],\n",
       "       [12.01549843],\n",
       "       [ 9.70107337],\n",
       "       [ 5.35398678],\n",
       "       [10.14966171],\n",
       "       [14.224196  ],\n",
       "       [14.04780871],\n",
       "       [14.33053495],\n",
       "       [10.39465714],\n",
       "       [21.04417964],\n",
       "       [13.74703482],\n",
       "       [ 6.4651166 ],\n",
       "       [ 7.90550808],\n",
       "       [17.69866554],\n",
       "       [17.74668208],\n",
       "       [12.39498913],\n",
       "       [12.69345805],\n",
       "       [20.58946722],\n",
       "       [18.4269009 ],\n",
       "       [ 4.59145621],\n",
       "       [ 6.82129794]])"
      ]
     },
     "execution_count": 20,
     "metadata": {},
     "output_type": "execute_result"
    }
   ],
   "source": [
    "ypred=model.predict(xtest)\n",
    "ypred"
   ]
  },
  {
   "cell_type": "code",
   "execution_count": 21,
   "metadata": {},
   "outputs": [
    {
     "data": {
      "text/plain": [
       "88.44142326775768"
      ]
     },
     "execution_count": 21,
     "metadata": {},
     "output_type": "execute_result"
    }
   ],
   "source": [
    "model.score(xtrain,ytrain)*100"
   ]
  },
  {
   "cell_type": "code",
   "execution_count": 23,
   "metadata": {},
   "outputs": [
    {
     "data": {
      "text/plain": [
       "92.20854203535252"
      ]
     },
     "execution_count": 23,
     "metadata": {},
     "output_type": "execute_result"
    }
   ],
   "source": [
    "model.score(xtest,ytest)*100"
   ]
  },
  {
   "cell_type": "code",
   "execution_count": 24,
   "metadata": {},
   "outputs": [
    {
     "data": {
      "text/plain": [
       "2.2412862530933477"
      ]
     },
     "execution_count": 24,
     "metadata": {},
     "output_type": "execute_result"
    }
   ],
   "source": [
    "from sklearn.metrics import mean_squared_error,mean_absolute_error,r2_score\n",
    "mean_squared_error(ytest,ypred)"
   ]
  },
  {
   "cell_type": "code",
   "execution_count": 25,
   "metadata": {},
   "outputs": [
    {
     "data": {
      "text/plain": [
       "1.22122993808994"
      ]
     },
     "execution_count": 25,
     "metadata": {},
     "output_type": "execute_result"
    }
   ],
   "source": [
    "mean_absolute_error(ytest,ypred)"
   ]
  },
  {
   "cell_type": "code",
   "execution_count": 26,
   "metadata": {},
   "outputs": [
    {
     "data": {
      "text/plain": [
       "92.20854203535252"
      ]
     },
     "execution_count": 26,
     "metadata": {},
     "output_type": "execute_result"
    }
   ],
   "source": [
    "r2_score(ytest,ypred)*100"
   ]
  },
  {
   "cell_type": "code",
   "execution_count": 27,
   "metadata": {},
   "outputs": [
    {
     "data": {
      "text/plain": [
       "1.497092600039606"
      ]
     },
     "execution_count": 27,
     "metadata": {},
     "output_type": "execute_result"
    }
   ],
   "source": [
    "rmse = np.sqrt(mean_squared_error(ytest,ypred))\n",
    "rmse\n"
   ]
  },
  {
   "cell_type": "code",
   "execution_count": 28,
   "metadata": {},
   "outputs": [
    {
     "data": {
      "text/plain": [
       "0.8910650514774895"
      ]
     },
     "execution_count": 28,
     "metadata": {},
     "output_type": "execute_result"
    }
   ],
   "source": [
    "from sklearn.model_selection import GridSearchCV,cross_val_score,KFold\n",
    "cv = KFold(n_splits=5,shuffle=True, random_state=0)\n",
    "cv\n",
    "KFold(n_splits=5, random_state=0, shuffle=True)\n",
    "scores=cross_val_score(model,x,y,cv=cv,n_jobs=-1)\n",
    "finalscore=np.mean(scores)\n",
    "finalscore"
   ]
  },
  {
   "cell_type": "code",
   "execution_count": 29,
   "metadata": {},
   "outputs": [],
   "source": [
    "param_grid = {'normalize':['deprecated'],\n",
    "    'copy_X':[True],\n",
    "    'n_jobs':[-1,1,2,-2],\n",
    "    'positive':[False],\n",
    "    'fit_intercept':[True]\n",
    "    }"
   ]
  },
  {
   "cell_type": "code",
   "execution_count": 31,
   "metadata": {},
   "outputs": [
    {
     "data": {
      "text/plain": [
       "GridSearchCV(cv=5, estimator=LinearRegression(), n_jobs=-1,\n",
       "             param_grid={'copy_X': [True], 'fit_intercept': [True],\n",
       "                         'n_jobs': [-1, 1, 2, -2], 'normalize': ['deprecated'],\n",
       "                         'positive': [False]})"
      ]
     },
     "execution_count": 31,
     "metadata": {},
     "output_type": "execute_result"
    }
   ],
   "source": [
    "grid_model=GridSearchCV(model,\n",
    "    param_grid=param_grid,\n",
    "    n_jobs=-1,\n",
    "    cv=5)\n",
    "grid_model"
   ]
  },
  {
   "cell_type": "code",
   "execution_count": 32,
   "metadata": {},
   "outputs": [
    {
     "data": {
      "text/plain": [
       "GridSearchCV(cv=5, estimator=LinearRegression(), n_jobs=-1,\n",
       "             param_grid={'copy_X': [True], 'fit_intercept': [True],\n",
       "                         'n_jobs': [-1, 1, 2, -2], 'normalize': ['deprecated'],\n",
       "                         'positive': [False]})"
      ]
     },
     "execution_count": 32,
     "metadata": {},
     "output_type": "execute_result"
    }
   ],
   "source": [
    "grid_model.fit(xtrain,ytrain)"
   ]
  },
  {
   "cell_type": "code",
   "execution_count": 33,
   "metadata": {},
   "outputs": [
    {
     "data": {
      "text/plain": [
       "LinearRegression()"
      ]
     },
     "execution_count": 33,
     "metadata": {},
     "output_type": "execute_result"
    }
   ],
   "source": [
    "grid_model.estimator"
   ]
  },
  {
   "cell_type": "code",
   "execution_count": 34,
   "metadata": {},
   "outputs": [
    {
     "data": {
      "text/plain": [
       "{'cv': 5,\n",
       " 'error_score': nan,\n",
       " 'estimator__copy_X': True,\n",
       " 'estimator__fit_intercept': True,\n",
       " 'estimator__n_jobs': None,\n",
       " 'estimator__normalize': 'deprecated',\n",
       " 'estimator__positive': False,\n",
       " 'estimator': LinearRegression(),\n",
       " 'n_jobs': -1,\n",
       " 'param_grid': {'normalize': ['deprecated'],\n",
       "  'copy_X': [True],\n",
       "  'n_jobs': [-1, 1, 2, -2],\n",
       "  'positive': [False],\n",
       "  'fit_intercept': [True]},\n",
       " 'pre_dispatch': '2*n_jobs',\n",
       " 'refit': True,\n",
       " 'return_train_score': False,\n",
       " 'scoring': None,\n",
       " 'verbose': 0}"
      ]
     },
     "execution_count": 34,
     "metadata": {},
     "output_type": "execute_result"
    }
   ],
   "source": [
    "grid_model.get_params()"
   ]
  },
  {
   "cell_type": "code",
   "execution_count": 35,
   "metadata": {},
   "outputs": [
    {
     "data": {
      "text/plain": [
       "{'copy_X': True,\n",
       " 'fit_intercept': True,\n",
       " 'n_jobs': -1,\n",
       " 'normalize': 'deprecated',\n",
       " 'positive': False}"
      ]
     },
     "execution_count": 35,
     "metadata": {},
     "output_type": "execute_result"
    }
   ],
   "source": [
    "grid_model.best_params_"
   ]
  },
  {
   "cell_type": "code",
   "execution_count": 36,
   "metadata": {},
   "outputs": [
    {
     "data": {
      "text/plain": [
       "0.8686758831118258"
      ]
     },
     "execution_count": 36,
     "metadata": {},
     "output_type": "execute_result"
    }
   ],
   "source": [
    "grid_model.best_score_"
   ]
  },
  {
   "cell_type": "code",
   "execution_count": 37,
   "metadata": {},
   "outputs": [
    {
     "data": {
      "text/plain": [
       "0.9220854203535253"
      ]
     },
     "execution_count": 37,
     "metadata": {},
     "output_type": "execute_result"
    }
   ],
   "source": [
    "from sklearn.linear_model import LinearRegression,Ridge,Lasso\n",
    "model = LinearRegression(fit_intercept=True,\n",
    "    normalize='deprecated',\n",
    "    copy_X=True,\n",
    "    n_jobs=-1,\n",
    "    positive=False)\n",
    "model.fit(xtrain,ytrain)\n",
    "model.predict(xtest)\n",
    "model.score(xtrain,ytrain)\n",
    "model.score(xtest,ytest)"
   ]
  },
  {
   "cell_type": "code",
   "execution_count": 38,
   "metadata": {},
   "outputs": [
    {
     "data": {
      "text/plain": [
       "Ridge()"
      ]
     },
     "execution_count": 38,
     "metadata": {},
     "output_type": "execute_result"
    }
   ],
   "source": [
    "ridgemodel =Ridge()\n",
    "ridgemodel"
   ]
  },
  {
   "cell_type": "code",
   "execution_count": 39,
   "metadata": {},
   "outputs": [],
   "source": [
    "param_ridge={\n",
    "    'alpha' :[1.0,0.01,2,3,0.05,0.07,0.09,0.1,0.3,0.6,0.9],\n",
    "    'fit_intercept':[True],\n",
    "    'normalize':['deprecated'],\n",
    "    'copy_X':[True],\n",
    "    'max_iter':[1000,2000,5000,10000,13000,15000],\n",
    "    'tol':[0.001,0.004,0.002,0.003],\n",
    "    'solver':['auto','saga'],\n",
    "    'positive':[True],\n",
    "    'random_state':[0]\n",
    "}"
   ]
  },
  {
   "cell_type": "code",
   "execution_count": 40,
   "metadata": {},
   "outputs": [
    {
     "data": {
      "text/plain": [
       "GridSearchCV(cv=5, estimator=Ridge(),\n",
       "             param_grid={'alpha': [1.0, 0.01, 2, 3, 0.05, 0.07, 0.09, 0.1, 0.3,\n",
       "                                   0.6, 0.9],\n",
       "                         'copy_X': [True], 'fit_intercept': [True],\n",
       "                         'max_iter': [1000, 2000, 5000, 10000, 13000, 15000],\n",
       "                         'normalize': ['deprecated'], 'positive': [True],\n",
       "                         'random_state': [0], 'solver': ['auto', 'saga'],\n",
       "                         'tol': [0.001, 0.004, 0.002, 0.003]})"
      ]
     },
     "execution_count": 40,
     "metadata": {},
     "output_type": "execute_result"
    }
   ],
   "source": [
    "ridge_model=GridSearchCV(ridgemodel,\n",
    "    param_grid=param_ridge,\n",
    "    cv=5)\n",
    "ridge_model"
   ]
  },
  {
   "cell_type": "code",
   "execution_count": 41,
   "metadata": {},
   "outputs": [
    {
     "name": "stderr",
     "output_type": "stream",
     "text": [
      "c:\\Users\\jonna\\AppData\\Local\\Programs\\Python\\Python39\\lib\\site-packages\\sklearn\\model_selection\\_validation.py:372: FitFailedWarning: \n",
      "1320 fits failed out of a total of 2640.\n",
      "The score on these train-test partitions for these parameters will be set to nan.\n",
      "If these failures are not expected, you can try to debug them by setting error_score='raise'.\n",
      "\n",
      "Below are more details about the failures:\n",
      "--------------------------------------------------------------------------------\n",
      "1320 fits failed with the following error:\n",
      "Traceback (most recent call last):\n",
      "  File \"c:\\Users\\jonna\\AppData\\Local\\Programs\\Python\\Python39\\lib\\site-packages\\sklearn\\model_selection\\_validation.py\", line 680, in _fit_and_score\n",
      "    estimator.fit(X_train, y_train, **fit_params)\n",
      "  File \"c:\\Users\\jonna\\AppData\\Local\\Programs\\Python\\Python39\\lib\\site-packages\\sklearn\\linear_model\\_ridge.py\", line 1011, in fit\n",
      "    return super().fit(X, y, sample_weight=sample_weight)\n",
      "  File \"c:\\Users\\jonna\\AppData\\Local\\Programs\\Python\\Python39\\lib\\site-packages\\sklearn\\linear_model\\_ridge.py\", line 712, in fit\n",
      "    raise ValueError(\n",
      "ValueError: solver='saga' does not support positive fitting. Please set the solver to 'auto' or 'lbfgs', or set `positive=False`\n",
      "\n",
      "  warnings.warn(some_fits_failed_message, FitFailedWarning)\n",
      "c:\\Users\\jonna\\AppData\\Local\\Programs\\Python\\Python39\\lib\\site-packages\\sklearn\\model_selection\\_search.py:969: UserWarning: One or more of the test scores are non-finite: [0.86943895 0.86943895 0.86943895 0.86943895        nan        nan\n",
      "        nan        nan 0.86943895 0.86943895 0.86943895 0.86943895\n",
      "        nan        nan        nan        nan 0.86943895 0.86943895\n",
      " 0.86943895 0.86943895        nan        nan        nan        nan\n",
      " 0.86943895 0.86943895 0.86943895 0.86943895        nan        nan\n",
      "        nan        nan 0.86943895 0.86943895 0.86943895 0.86943895\n",
      "        nan        nan        nan        nan 0.86943895 0.86943895\n",
      " 0.86943895 0.86943895        nan        nan        nan        nan\n",
      " 0.86943931 0.86943931 0.86943931 0.86943931        nan        nan\n",
      "        nan        nan 0.86943931 0.86943931 0.86943931 0.86943931\n",
      "        nan        nan        nan        nan 0.86943931 0.86943931\n",
      " 0.86943931 0.86943931        nan        nan        nan        nan\n",
      " 0.86943931 0.86943931 0.86943931 0.86943931        nan        nan\n",
      "        nan        nan 0.86943931 0.86943931 0.86943931 0.86943931\n",
      "        nan        nan        nan        nan 0.86943931 0.86943931\n",
      " 0.86943931 0.86943931        nan        nan        nan        nan\n",
      " 0.86943858 0.86943858 0.86943858 0.86943858        nan        nan\n",
      "        nan        nan 0.86943858 0.86943858 0.86943858 0.86943858\n",
      "        nan        nan        nan        nan 0.86943858 0.86943858\n",
      " 0.86943858 0.86943858        nan        nan        nan        nan\n",
      " 0.86943858 0.86943858 0.86943858 0.86943858        nan        nan\n",
      "        nan        nan 0.86943858 0.86943858 0.86943858 0.86943858\n",
      "        nan        nan        nan        nan 0.86943858 0.86943858\n",
      " 0.86943858 0.86943858        nan        nan        nan        nan\n",
      " 0.8694382  0.8694382  0.8694382  0.8694382         nan        nan\n",
      "        nan        nan 0.8694382  0.8694382  0.8694382  0.8694382\n",
      "        nan        nan        nan        nan 0.8694382  0.8694382\n",
      " 0.8694382  0.8694382         nan        nan        nan        nan\n",
      " 0.8694382  0.8694382  0.8694382  0.8694382         nan        nan\n",
      "        nan        nan 0.8694382  0.8694382  0.8694382  0.8694382\n",
      "        nan        nan        nan        nan 0.8694382  0.8694382\n",
      " 0.8694382  0.8694382         nan        nan        nan        nan\n",
      " 0.8694393  0.8694393  0.8694393  0.8694393         nan        nan\n",
      "        nan        nan 0.8694393  0.8694393  0.8694393  0.8694393\n",
      "        nan        nan        nan        nan 0.8694393  0.8694393\n",
      " 0.8694393  0.8694393         nan        nan        nan        nan\n",
      " 0.8694393  0.8694393  0.8694393  0.8694393         nan        nan\n",
      "        nan        nan 0.8694393  0.8694393  0.8694393  0.8694393\n",
      "        nan        nan        nan        nan 0.8694393  0.8694393\n",
      " 0.8694393  0.8694393         nan        nan        nan        nan\n",
      " 0.86943929 0.86943929 0.86943929 0.86943929        nan        nan\n",
      "        nan        nan 0.86943929 0.86943929 0.86943929 0.86943929\n",
      "        nan        nan        nan        nan 0.86943929 0.86943929\n",
      " 0.86943929 0.86943929        nan        nan        nan        nan\n",
      " 0.86943929 0.86943929 0.86943929 0.86943929        nan        nan\n",
      "        nan        nan 0.86943929 0.86943929 0.86943929 0.86943929\n",
      "        nan        nan        nan        nan 0.86943929 0.86943929\n",
      " 0.86943929 0.86943929        nan        nan        nan        nan\n",
      " 0.86943928 0.86943928 0.86943928 0.86943928        nan        nan\n",
      "        nan        nan 0.86943928 0.86943928 0.86943928 0.86943928\n",
      "        nan        nan        nan        nan 0.86943928 0.86943928\n",
      " 0.86943928 0.86943928        nan        nan        nan        nan\n",
      " 0.86943928 0.86943928 0.86943928 0.86943928        nan        nan\n",
      "        nan        nan 0.86943928 0.86943928 0.86943928 0.86943928\n",
      "        nan        nan        nan        nan 0.86943928 0.86943928\n",
      " 0.86943928 0.86943928        nan        nan        nan        nan\n",
      " 0.86943928 0.86943928 0.86943928 0.86943928        nan        nan\n",
      "        nan        nan 0.86943928 0.86943928 0.86943928 0.86943928\n",
      "        nan        nan        nan        nan 0.86943928 0.86943928\n",
      " 0.86943928 0.86943928        nan        nan        nan        nan\n",
      " 0.86943928 0.86943928 0.86943928 0.86943928        nan        nan\n",
      "        nan        nan 0.86943928 0.86943928 0.86943928 0.86943928\n",
      "        nan        nan        nan        nan 0.86943928 0.86943928\n",
      " 0.86943928 0.86943928        nan        nan        nan        nan\n",
      " 0.86943921 0.86943921 0.86943921 0.86943921        nan        nan\n",
      "        nan        nan 0.86943921 0.86943921 0.86943921 0.86943921\n",
      "        nan        nan        nan        nan 0.86943921 0.86943921\n",
      " 0.86943921 0.86943921        nan        nan        nan        nan\n",
      " 0.86943921 0.86943921 0.86943921 0.86943921        nan        nan\n",
      "        nan        nan 0.86943921 0.86943921 0.86943921 0.86943921\n",
      "        nan        nan        nan        nan 0.86943921 0.86943921\n",
      " 0.86943921 0.86943921        nan        nan        nan        nan\n",
      " 0.8694391  0.8694391  0.8694391  0.8694391         nan        nan\n",
      "        nan        nan 0.8694391  0.8694391  0.8694391  0.8694391\n",
      "        nan        nan        nan        nan 0.8694391  0.8694391\n",
      " 0.8694391  0.8694391         nan        nan        nan        nan\n",
      " 0.8694391  0.8694391  0.8694391  0.8694391         nan        nan\n",
      "        nan        nan 0.8694391  0.8694391  0.8694391  0.8694391\n",
      "        nan        nan        nan        nan 0.8694391  0.8694391\n",
      " 0.8694391  0.8694391         nan        nan        nan        nan\n",
      " 0.86943898 0.86943898 0.86943898 0.86943898        nan        nan\n",
      "        nan        nan 0.86943898 0.86943898 0.86943898 0.86943898\n",
      "        nan        nan        nan        nan 0.86943898 0.86943898\n",
      " 0.86943898 0.86943898        nan        nan        nan        nan\n",
      " 0.86943898 0.86943898 0.86943898 0.86943898        nan        nan\n",
      "        nan        nan 0.86943898 0.86943898 0.86943898 0.86943898\n",
      "        nan        nan        nan        nan 0.86943898 0.86943898\n",
      " 0.86943898 0.86943898        nan        nan        nan        nan]\n",
      "  warnings.warn(\n"
     ]
    },
    {
     "data": {
      "text/plain": [
       "GridSearchCV(cv=5, estimator=Ridge(),\n",
       "             param_grid={'alpha': [1.0, 0.01, 2, 3, 0.05, 0.07, 0.09, 0.1, 0.3,\n",
       "                                   0.6, 0.9],\n",
       "                         'copy_X': [True], 'fit_intercept': [True],\n",
       "                         'max_iter': [1000, 2000, 5000, 10000, 13000, 15000],\n",
       "                         'normalize': ['deprecated'], 'positive': [True],\n",
       "                         'random_state': [0], 'solver': ['auto', 'saga'],\n",
       "                         'tol': [0.001, 0.004, 0.002, 0.003]})"
      ]
     },
     "execution_count": 41,
     "metadata": {},
     "output_type": "execute_result"
    }
   ],
   "source": [
    "ridge_model.fit(xtrain,ytrain)"
   ]
  },
  {
   "cell_type": "code",
   "execution_count": 42,
   "metadata": {},
   "outputs": [
    {
     "data": {
      "text/plain": [
       "0.8843476252344077"
      ]
     },
     "execution_count": 42,
     "metadata": {},
     "output_type": "execute_result"
    }
   ],
   "source": [
    "ridgepred = ridge_model.predict(xtest)\n",
    "ridge_model.score(xtrain,ytrain)"
   ]
  },
  {
   "cell_type": "code",
   "execution_count": 43,
   "metadata": {},
   "outputs": [
    {
     "data": {
      "text/plain": [
       "0.922305942154056"
      ]
     },
     "execution_count": 43,
     "metadata": {},
     "output_type": "execute_result"
    }
   ],
   "source": [
    "ridge_model.score(xtest,ytest)"
   ]
  },
  {
   "cell_type": "code",
   "execution_count": 44,
   "metadata": {},
   "outputs": [
    {
     "data": {
      "text/plain": [
       "0.9204771495691686"
      ]
     },
     "execution_count": 44,
     "metadata": {},
     "output_type": "execute_result"
    }
   ],
   "source": [
    "lasso = Lasso()\n",
    "lasso.fit(xtrain,ytrain)\n",
    "lasso.predict(xtest)\n",
    "lasso.score(xtrain,ytrain)\n",
    "lasso.score(xtest,ytest)"
   ]
  },
  {
   "cell_type": "code",
   "execution_count": 45,
   "metadata": {},
   "outputs": [],
   "source": [
    "lasso_grid_para={\n",
    "    'alpha':[1.0,0.01,0.2,0.3,0.01,0.02],\n",
    "    'fit_intercept':[True],\n",
    "    'normalize':['deprecated'],\n",
    "    'copy_X':[True],\n",
    "    'max_iter':[1000,2000,5000,7000,10000,13000,15000],\n",
    "    'positive':[False],\n",
    "    'random_state':[0],\n",
    "    'selection':['cyclic']\n",
    "}"
   ]
  },
  {
   "cell_type": "code",
   "execution_count": 46,
   "metadata": {},
   "outputs": [
    {
     "data": {
      "text/plain": [
       "GridSearchCV(cv=5, estimator=Lasso(), n_jobs=-1,\n",
       "             param_grid={'alpha': [1.0, 0.01, 0.2, 0.3, 0.01, 0.02],\n",
       "                         'copy_X': [True], 'fit_intercept': [True],\n",
       "                         'max_iter': [1000, 2000, 5000, 7000, 10000, 13000,\n",
       "                                      15000],\n",
       "                         'normalize': ['deprecated'], 'positive': [False],\n",
       "                         'random_state': [0], 'selection': ['cyclic']})"
      ]
     },
     "execution_count": 46,
     "metadata": {},
     "output_type": "execute_result"
    }
   ],
   "source": [
    "grid_model_lasso=GridSearchCV(lasso,\n",
    "    param_grid=lasso_grid_para,\n",
    "    n_jobs=-1,\n",
    "    cv=5)\n",
    "grid_model_lasso"
   ]
  },
  {
   "cell_type": "code",
   "execution_count": 47,
   "metadata": {},
   "outputs": [
    {
     "data": {
      "text/plain": [
       "{'cv': 5,\n",
       " 'error_score': nan,\n",
       " 'estimator__alpha': 1.0,\n",
       " 'estimator__copy_X': True,\n",
       " 'estimator__fit_intercept': True,\n",
       " 'estimator__max_iter': 1000,\n",
       " 'estimator__normalize': 'deprecated',\n",
       " 'estimator__positive': False,\n",
       " 'estimator__precompute': False,\n",
       " 'estimator__random_state': None,\n",
       " 'estimator__selection': 'cyclic',\n",
       " 'estimator__tol': 0.0001,\n",
       " 'estimator__warm_start': False,\n",
       " 'estimator': Lasso(),\n",
       " 'n_jobs': -1,\n",
       " 'param_grid': {'alpha': [1.0, 0.01, 0.2, 0.3, 0.01, 0.02],\n",
       "  'fit_intercept': [True],\n",
       "  'normalize': ['deprecated'],\n",
       "  'copy_X': [True],\n",
       "  'max_iter': [1000, 2000, 5000, 7000, 10000, 13000, 15000],\n",
       "  'positive': [False],\n",
       "  'random_state': [0],\n",
       "  'selection': ['cyclic']},\n",
       " 'pre_dispatch': '2*n_jobs',\n",
       " 'refit': True,\n",
       " 'return_train_score': False,\n",
       " 'scoring': None,\n",
       " 'verbose': 0}"
      ]
     },
     "execution_count": 47,
     "metadata": {},
     "output_type": "execute_result"
    }
   ],
   "source": [
    "grid_model_lasso.get_params()"
   ]
  },
  {
   "cell_type": "code",
   "execution_count": 48,
   "metadata": {},
   "outputs": [
    {
     "data": {
      "text/plain": [
       "GridSearchCV(cv=5, estimator=Lasso(), n_jobs=-1,\n",
       "             param_grid={'alpha': [1.0, 0.01, 0.2, 0.3, 0.01, 0.02],\n",
       "                         'copy_X': [True], 'fit_intercept': [True],\n",
       "                         'max_iter': [1000, 2000, 5000, 7000, 10000, 13000,\n",
       "                                      15000],\n",
       "                         'normalize': ['deprecated'], 'positive': [False],\n",
       "                         'random_state': [0], 'selection': ['cyclic']})"
      ]
     },
     "execution_count": 48,
     "metadata": {},
     "output_type": "execute_result"
    }
   ],
   "source": [
    "grid_model_lasso.set_params()"
   ]
  },
  {
   "cell_type": "code",
   "execution_count": 49,
   "metadata": {},
   "outputs": [
    {
     "data": {
      "text/plain": [
       "0.9204771495691686"
      ]
     },
     "execution_count": 49,
     "metadata": {},
     "output_type": "execute_result"
    }
   ],
   "source": [
    "grid_model_lasso.fit(xtrain,ytrain)\n",
    "grid_model_lasso.predict(xtest)\n",
    "grid_model_lasso.score(xtrain,ytrain)\n",
    "grid_model_lasso.score(xtest,ytest)"
   ]
  },
  {
   "cell_type": "code",
   "execution_count": null,
   "metadata": {},
   "outputs": [],
   "source": []
  }
 ],
 "metadata": {
  "kernelspec": {
   "display_name": "Python 3",
   "language": "python",
   "name": "python3"
  },
  "language_info": {
   "codemirror_mode": {
    "name": "ipython",
    "version": 3
   },
   "file_extension": ".py",
   "mimetype": "text/x-python",
   "name": "python",
   "nbconvert_exporter": "python",
   "pygments_lexer": "ipython3",
   "version": "3.9.4"
  },
  "orig_nbformat": 4
 },
 "nbformat": 4,
 "nbformat_minor": 2
}
